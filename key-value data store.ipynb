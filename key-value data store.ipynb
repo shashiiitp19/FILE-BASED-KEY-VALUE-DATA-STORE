{
 "cells": [
  {
   "cell_type": "code",
   "execution_count": 77,
   "metadata": {},
   "outputs": [],
   "source": [
    "import os\n",
    "import json\n",
    "import sys\n",
    "from threading import Thread, Lock\n",
    "from time import *"
   ]
  },
  {
   "cell_type": "code",
   "execution_count": 78,
   "metadata": {},
   "outputs": [
    {
     "name": "stdout",
     "output_type": "stream",
     "text": [
      "Please Provide the directory: D:/\n"
     ]
    }
   ],
   "source": [
    "filepath = input(\"Please Provide the directory: \")"
   ]
  },
  {
   "cell_type": "code",
   "execution_count": 79,
   "metadata": {},
   "outputs": [],
   "source": [
    "def path_check(filepath):\n",
    "    user_location = filepath\n",
    "\n",
    "    if os.path.exists(user_location):\n",
    "        directory = user_location\n",
    "    else:\n",
    "        directory = \"/\"\n",
    "        print(\"I am using current directiry...\")\n",
    "    return directory"
   ]
  },
  {
   "cell_type": "code",
   "execution_count": 80,
   "metadata": {},
   "outputs": [
    {
     "data": {
      "text/plain": [
       "'D:/'"
      ]
     },
     "execution_count": 80,
     "metadata": {},
     "output_type": "execute_result"
    }
   ],
   "source": [
    "path_check(filepath)"
   ]
  },
  {
   "cell_type": "code",
   "execution_count": 81,
   "metadata": {},
   "outputs": [],
   "source": [
    "def delete_time(key):\n",
    "    with open(path_check(filepath) + 'example.json','r') as json_file:\n",
    "        json_decoded = json.load(json_file)\n",
    "    get_time = [json_decoded.get(key)]\n",
    "    if ((get_time[0][1]) < time()*1000):\n",
    "        del json_decoded[key]\n",
    "        with open(path_check(filepath)+'example.json', 'w') as json_file:\n",
    "            json_decoded = json.dump(json_decoded, json_file, indent = 3)\n",
    "        json_file.close()"
   ]
  },
  {
   "cell_type": "code",
   "execution_count": 82,
   "metadata": {},
   "outputs": [],
   "source": [
    "def Write_in_new_file(key, js_object, given):\n",
    "    given = (given * 1000)\n",
    "    #millisec = dt_obj.timestamp() * 1000\n",
    "    T_T_L = given + ( time() * 1000 )\n",
    "    with open(path_check(filepath)+\"example_new.json\") as json_file:\n",
    "        json_decoded1 = json.load(json_file)\n",
    "    json_decoded1[key] = (json_object, T_T_L)\n",
    "    with open(path_check(filepath)+\"example_new.json\", 'w') as json_file:\n",
    "        json.dump(json_decoded1, json_file, indent=3)"
   ]
  },
  {
   "cell_type": "code",
   "execution_count": 83,
   "metadata": {},
   "outputs": [],
   "source": [
    "def Create(key, json_object, given):\n",
    "    given = (given * 1000)\n",
    "    #millisec = dt_obj.timestamp() * 1000\n",
    "    T_T_L = given + ( time() * 1000 )\n",
    "    #print(millisec)\n",
    "    if(type(key) != str):\n",
    "        print(\"Error: Key must be a string\")\n",
    "        return\n",
    "    if(len(key)>32):\n",
    "        print(\"Error: Key must be less than 32 chars\")\n",
    "        return\n",
    "    \n",
    "    val = float(sys.getsizeof(json_object) / 1024)\n",
    "    #print(val)\n",
    "    if val>=16:\n",
    "        print(\"File size Exceeds\")\n",
    "        return\n",
    "    \n",
    "    with open(path_check(filepath)+\"example.json\") as json_file:\n",
    "        json_decoded = json.load(json_file)\n",
    "        #print(type(json_decoded))\n",
    "    if(key in json_decoded):\n",
    "        delete_time(key)\n",
    "    if(key in json_decoded):\n",
    "        print(\"key is already present, use another key\")\n",
    "        return\n",
    "    json_decoded[key] = (json_object, T_T_L)\n",
    "    with open(path_check(filepath)+\"example.json\", 'w') as json_file:\n",
    "        json.dump(json_decoded, json_file, indent=3)\n",
    "        file_size = float(sys.getsizeof(json_file) / 1024*1024*1024)\n",
    "        if file_size>1024*1024*1024:\n",
    "            mutex.acquire()\n",
    "            Write_in_new_file(key, js_object, given)\n",
    "            mutex.release()\n",
    "            Delete(key)\n",
    "    json_file.close()"
   ]
  },
  {
   "cell_type": "code",
   "execution_count": 84,
   "metadata": {},
   "outputs": [],
   "source": [
    "def Read(key):\n",
    "    with open(path_check(filepath)+\"example.json\") as json_file:\n",
    "        json_decoded = json.load(json_file)\n",
    "    if(key not in json_decoded):\n",
    "        print(\"key is not present, use a valid key\")\n",
    "        return\n",
    "    #print(json_decoded[key])\n",
    "    get_time = [json_decoded.get(key)]\n",
    "    #print(get_time[0][1])\n",
    "    #print(time()*1000)\n",
    "    if ((get_time[0][1]) > time()*1000):\n",
    "        value = json_decoded[key]\n",
    "        json_file.close()\n",
    "        return value\n",
    "    else:\n",
    "        delete_time(key)\n",
    "        print(\"Key is expired !\")\n",
    "    "
   ]
  },
  {
   "cell_type": "code",
   "execution_count": 85,
   "metadata": {},
   "outputs": [],
   "source": [
    "def Delete(key):\n",
    "    with open(path_check(filepath)+'example.json','r') as json_file:\n",
    "        json_decoded = json.load(json_file)\n",
    "    if(key not in json_decoded):\n",
    "        print(\"key is not present, use a valid key\")\n",
    "        return\n",
    "    else:\n",
    "        #json_decoded.pop(key)\n",
    "        del json_decoded[key]\n",
    "        with open(path_check(filepath)+'example.json', 'w') as json_file:\n",
    "            json_decoded = json.dump(json_decoded, json_file, indent = 3)\n",
    "    json_file.close()"
   ]
  },
  {
   "cell_type": "code",
   "execution_count": 86,
   "metadata": {},
   "outputs": [],
   "source": [
    "#This needs to be done only for the first time because initially it can't be empty !\n",
    "initial = {'user':\"Hello Mr. User\"}\n",
    "#initial = json.dumps(initial)"
   ]
  },
  {
   "cell_type": "code",
   "execution_count": 88,
   "metadata": {},
   "outputs": [],
   "source": [
    "#creating the example.json file at the given location!\n",
    "with open(path_check(filepath)+\"example.json\", 'w') as json_file:\n",
    "    json.dump(initial, json_file, indent=3)\n",
    "    json_file.close()"
   ]
  },
  {
   "cell_type": "code",
   "execution_count": 89,
   "metadata": {},
   "outputs": [
    {
     "name": "stdout",
     "output_type": "stream",
     "text": [
      "Enter Key: amit\n"
     ]
    }
   ],
   "source": [
    "key = input(\"Enter Key: \")"
   ]
  },
  {
   "cell_type": "code",
   "execution_count": 90,
   "metadata": {},
   "outputs": [
    {
     "name": "stdout",
     "output_type": "stream",
     "text": [
      "Enter time to live for the key: 60\n"
     ]
    }
   ],
   "source": [
    "time_to_live = int(input(\"Enter time to live for the key: \"))"
   ]
  },
  {
   "cell_type": "code",
   "execution_count": 91,
   "metadata": {},
   "outputs": [],
   "source": [
    "js_object = {'company':'intel','course':'mtech','rank':'2'}\n",
    "js_object=json.dumps(js_object,indent=3)"
   ]
  },
  {
   "cell_type": "code",
   "execution_count": 92,
   "metadata": {},
   "outputs": [],
   "source": [
    "mutex = Lock()"
   ]
  },
  {
   "cell_type": "code",
   "execution_count": 96,
   "metadata": {},
   "outputs": [
    {
     "name": "stdout",
     "output_type": "stream",
     "text": [
      "<class 'dict'>\n",
      "key is already present, use another key\n"
     ]
    }
   ],
   "source": [
    "mutex.acquire()\n",
    "Create(key, js_object, time_to_live)\n",
    "mutex.release()"
   ]
  },
  {
   "cell_type": "code",
   "execution_count": 98,
   "metadata": {},
   "outputs": [
    {
     "name": "stdout",
     "output_type": "stream",
     "text": [
      "Key is expired !\n"
     ]
    }
   ],
   "source": [
    "mutex.acquire()\n",
    "a = Read(key)\n",
    "mutex.release()\n",
    "a"
   ]
  },
  {
   "cell_type": "code",
   "execution_count": 74,
   "metadata": {},
   "outputs": [],
   "source": [
    "mutex.acquire()\n",
    "Delete(key)\n",
    "mutex.release()"
   ]
  },
  {
   "cell_type": "code",
   "execution_count": null,
   "metadata": {},
   "outputs": [],
   "source": []
  }
 ],
 "metadata": {
  "kernelspec": {
   "display_name": "Python 3",
   "language": "python",
   "name": "python3"
  },
  "language_info": {
   "codemirror_mode": {
    "name": "ipython",
    "version": 3
   },
   "file_extension": ".py",
   "mimetype": "text/x-python",
   "name": "python",
   "nbconvert_exporter": "python",
   "pygments_lexer": "ipython3",
   "version": "3.8.3"
  }
 },
 "nbformat": 4,
 "nbformat_minor": 4
}
