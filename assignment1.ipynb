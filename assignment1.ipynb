{
 "cells": [
  {
   "cell_type": "code",
   "execution_count": 40,
   "metadata": {},
   "outputs": [],
   "source": [
    "import os\n",
    "import json\n",
    "import sys\n",
    "from threading import Thread, Lock\n",
    "from time import *"
   ]
  },
  {
   "cell_type": "code",
   "execution_count": null,
   "metadata": {},
   "outputs": [],
   "source": []
  },
  {
   "cell_type": "code",
   "execution_count": 54,
   "metadata": {},
   "outputs": [],
   "source": []
  },
  {
   "cell_type": "code",
   "execution_count": 43,
   "metadata": {},
   "outputs": [],
   "source": []
  },
  {
   "cell_type": "code",
   "execution_count": null,
   "metadata": {},
   "outputs": [],
   "source": [
    "def path_chek(filepath):\n",
    "    user_location = filepath\n",
    "\n",
    "    if os.path.exists(user_location):\n",
    "        directory = user_location\n",
    "    else:\n",
    "        directory = \"/\"\n",
    "        print(\"The path does not exist\")\n",
    "    return directory"
   ]
  },
  {
   "cell_type": "code",
   "execution_count": 45,
   "metadata": {},
   "outputs": [],
   "source": []
  },
  {
   "cell_type": "code",
   "execution_count": 55,
   "metadata": {},
   "outputs": [],
   "source": []
  },
  {
   "cell_type": "code",
   "execution_count": null,
   "metadata": {},
   "outputs": [],
   "source": []
  },
  {
   "cell_type": "code",
   "execution_count": null,
   "metadata": {},
   "outputs": [],
   "source": []
  },
  {
   "cell_type": "code",
   "execution_count": null,
   "metadata": {},
   "outputs": [],
   "source": []
  },
  {
   "cell_type": "code",
   "execution_count": 59,
   "metadata": {},
   "outputs": [
    {
     "name": "stdout",
     "output_type": "stream",
     "text": [
      "Enter Key: abc\n"
     ]
    }
   ],
   "source": [
    "key = input(\"Enter Key: \")"
   ]
  },
  {
   "cell_type": "code",
   "execution_count": 60,
   "metadata": {},
   "outputs": [
    {
     "name": "stdout",
     "output_type": "stream",
     "text": [
      "Enter time to live for the key: 30\n"
     ]
    }
   ],
   "source": [
    "time_to_live = int(input(\"Enter time to live for the key: \"))"
   ]
  },
  {
   "cell_type": "code",
   "execution_count": 61,
   "metadata": {},
   "outputs": [],
   "source": [
    "js_object = {'company':'intel','course':'mtech','rank':'2'}\n",
    "js_object=json.dumps(js_object,indent=3)"
   ]
  },
  {
   "cell_type": "code",
   "execution_count": 62,
   "metadata": {},
   "outputs": [],
   "source": [
    "mutex = Lock()"
   ]
  },
  {
   "cell_type": "code",
   "execution_count": 63,
   "metadata": {},
   "outputs": [],
   "source": [
    "def delete_time(key):\n",
    "    with open('example.json','r') as json_file:\n",
    "        json_decoded = json.load(json_file)\n",
    "    get_time = [json_decoded.get(key)]\n",
    "    if ((get_time[0][1]) < time()*1000):\n",
    "        del json_decoded[key]\n",
    "        with open('example.json', 'w') as json_file:\n",
    "            json_decoded = json.dump(json_decoded, json_file, indent = 3)\n",
    "        json_file.close()"
   ]
  },
  {
   "cell_type": "code",
   "execution_count": 64,
   "metadata": {},
   "outputs": [],
   "source": [
    "def Write_in_new_file(key, js_object, given):\n",
    "    given = (given * 1000)\n",
    "    #millisec = dt_obj.timestamp() * 1000\n",
    "    T_T_L = given + ( time() * 1000 )\n",
    "    with open(\"example_new.json\") as json_file:\n",
    "        json_decoded1 = json.load(json_file)\n",
    "    json_decoded1[key] = (json_object, T_T_L)\n",
    "    with open(\"example_new.json\", 'w') as json_file:\n",
    "        json.dump(json_decoded1, json_file, indent=3)"
   ]
  },
  {
   "cell_type": "code",
   "execution_count": 65,
   "metadata": {},
   "outputs": [],
   "source": [
    "import json\n",
    "def Create(key, json_object, given):\n",
    "    given = (given * 1000)\n",
    "    #millisec = dt_obj.timestamp() * 1000\n",
    "    T_T_L = given + ( time() * 1000 )\n",
    "    #print(millisec)\n",
    "    if(type(key) != str):\n",
    "        print(\"Error: Key must be a string\")\n",
    "        return\n",
    "    if(len(key)>32):\n",
    "        print(\"Error: Key must be less than 32 chars\")\n",
    "        return\n",
    "    \n",
    "    val = float(sys.getsizeof(json_object) / 1024)\n",
    "    #print(val)\n",
    "    if val>=16:\n",
    "        print(\"File size is Exceeds\")\n",
    "        return\n",
    "    \n",
    "    with open(\"example.json\") as json_file:\n",
    "        json_decoded = json.load(json_file)\n",
    "    if(key in json_decoded):\n",
    "        delete_time(key)\n",
    "    if(key in json_decoded):\n",
    "        print(\"key is already present, use another key\")\n",
    "        return\n",
    "    json_decoded[key] = (json_object, T_T_L)\n",
    "    with open(\"example.json\", 'w') as json_file:\n",
    "        json.dump(json_decoded, json_file, indent=3)\n",
    "        file_size = float(sys.getsizeof(json_file) / 1024*1024*1024)\n",
    "        if file_size>1024*1024*1024:\n",
    "            mutex.acquire()\n",
    "            Write_in_new_file(key, js_object, given)\n",
    "            mutex.release()\n",
    "            Delete(key)\n",
    "    json_file.close()"
   ]
  },
  {
   "cell_type": "code",
   "execution_count": null,
   "metadata": {},
   "outputs": [],
   "source": []
  },
  {
   "cell_type": "code",
   "execution_count": 66,
   "metadata": {},
   "outputs": [],
   "source": [
    "def Read(key):\n",
    "    with open(\"example.json\") as json_file:\n",
    "        json_decoded = json.load(json_file)\n",
    "    if(key not in json_decoded):\n",
    "        print(\"key is not present, use a valid key\")\n",
    "        return\n",
    "    #print(json_decoded[key])\n",
    "    get_time = [json_decoded.get(key)]\n",
    "    #print(get_time[0][1])\n",
    "    #print(time()*1000)\n",
    "    if ((get_time[0][1]) > time()*1000):\n",
    "        value = json_decoded[key]\n",
    "        json_file.close()\n",
    "        return value\n",
    "    else:\n",
    "        delete_time(key)\n",
    "        print(\"Key is expired !\")\n",
    "    "
   ]
  },
  {
   "cell_type": "code",
   "execution_count": 67,
   "metadata": {},
   "outputs": [],
   "source": [
    "def Delete(key):\n",
    "    with open('example.json','r') as json_file:\n",
    "        json_decoded = json.load(json_file)\n",
    "    if(key not in json_decoded):\n",
    "        print(\"key is not present, use a valid key\")\n",
    "        return\n",
    "    else:\n",
    "        #json_decoded.pop(key)\n",
    "        del json_decoded[key]\n",
    "        with open('example.json', 'w') as json_file:\n",
    "            json_decoded = json.dump(json_decoded, json_file, indent = 3)\n",
    "    json_file.close()"
   ]
  },
  {
   "cell_type": "code",
   "execution_count": null,
   "metadata": {},
   "outputs": [],
   "source": []
  },
  {
   "cell_type": "code",
   "execution_count": 79,
   "metadata": {},
   "outputs": [
    {
     "name": "stdout",
     "output_type": "stream",
     "text": [
      "key is already present, use another key\n"
     ]
    }
   ],
   "source": [
    "mutex.acquire()\n",
    "Create(key, js_object, time_to_live)\n",
    "mutex.release()"
   ]
  },
  {
   "cell_type": "code",
   "execution_count": 80,
   "metadata": {},
   "outputs": [
    {
     "data": {
      "text/plain": [
       "['{\\n   \"company\": \"intel\",\\n   \"course\": \"mtech\",\\n   \"rank\": \"2\"\\n}',\n",
       " 1609510638520.8503]"
      ]
     },
     "execution_count": 80,
     "metadata": {},
     "output_type": "execute_result"
    }
   ],
   "source": [
    "mutex.acquire()\n",
    "a = Read(key)\n",
    "mutex.release()\n",
    "a"
   ]
  },
  {
   "cell_type": "code",
   "execution_count": 76,
   "metadata": {},
   "outputs": [
    {
     "name": "stdout",
     "output_type": "stream",
     "text": [
      "key is not present, use a valid key\n"
     ]
    }
   ],
   "source": [
    "mutex.acquire()\n",
    "Delete(key3)\n",
    "mutex.release()"
   ]
  },
  {
   "cell_type": "code",
   "execution_count": null,
   "metadata": {},
   "outputs": [],
   "source": []
  },
  {
   "cell_type": "code",
   "execution_count": null,
   "metadata": {},
   "outputs": [],
   "source": []
  },
  {
   "cell_type": "code",
   "execution_count": null,
   "metadata": {},
   "outputs": [],
   "source": []
  },
  {
   "cell_type": "code",
   "execution_count": null,
   "metadata": {},
   "outputs": [],
   "source": []
  },
  {
   "cell_type": "code",
   "execution_count": null,
   "metadata": {},
   "outputs": [],
   "source": []
  },
  {
   "cell_type": "code",
   "execution_count": 39,
   "metadata": {},
   "outputs": [],
   "source": []
  },
  {
   "cell_type": "code",
   "execution_count": null,
   "metadata": {},
   "outputs": [],
   "source": []
  }
 ],
 "metadata": {
  "kernelspec": {
   "display_name": "Python 3",
   "language": "python",
   "name": "python3"
  }
 },
 "nbformat": 4,
 "nbformat_minor": 4
}
